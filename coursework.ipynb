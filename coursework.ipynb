{
 "cells": [
  {
   "cell_type": "code",
   "execution_count": 2,
   "metadata": {},
   "outputs": [
    {
     "name": "stdout",
     "output_type": "stream",
     "text": [
      "MY aPPLE Is rIpE 123\n"
     ]
    }
   ],
   "source": [
    "#q1 You are given a string and your task is to swap cases. \n",
    "#In other words, convert all lowercase letters to uppercase letters and vice versa.\n",
    "input = 'my Apple iS RiPe 123'\n",
    "output=''\n",
    "for i in input:\n",
    "    if (ord(i)>=65 and ord(i)<=90):\n",
    "        output += chr(ord(i)+32) \n",
    "    elif(ord(i)>=97 and ord(i)<=122):\n",
    "        output +=chr(ord(i)-32)\n",
    "    else:\n",
    "        output +=chr(ord(i))\n",
    "       \n",
    "print(output)"
   ]
  },
  {
   "cell_type": "code",
   "execution_count": 4,
   "metadata": {},
   "outputs": [
    {
     "name": "stdout",
     "output_type": "stream",
     "text": [
      "2\n"
     ]
    }
   ],
   "source": [
    "#q2 The user enters a string and a substring. You have to print the number of times that the substring occurs in the given string. \n",
    "#String traversal will take place from left to right, not from right to left.\n",
    "input = 'choappcho app'\n",
    "sub ='app'\n",
    "count = 0\n",
    "a = len(input)\n",
    "for i in range(0,len(input)):\n",
    "    if input[i:i+len(sub)]==sub:\n",
    "        count += 1\n",
    "\n",
    "print(count)"
   ]
  },
  {
   "cell_type": "code",
   "execution_count": 2,
   "metadata": {},
   "outputs": [
    {
     "name": "stdout",
     "output_type": "stream",
     "text": [
      "please enter string: allP2314asd\n",
      "l21ad\n"
     ]
    }
   ],
   "source": [
    "#q3 Write a class in which its one method accepts a string from console and \n",
    "#another method to print the characters that have even indexes.\n",
    "\n",
    "class CharacterEvenDisplay(object):\n",
    "    #string = ''\n",
    "    def __init__(self):\n",
    "        self.string =''\n",
    "    \n",
    "    def takeInput(self):\n",
    "        self.string = input('please enter string: ')\n",
    "    \n",
    "    def displayOutput(self):\n",
    "        output = ''\n",
    "        for i in range(len(self.string)):\n",
    "            if(i!=0 and i%2 ==0):\n",
    "                output += self.string[i]\n",
    "        print(output)\n",
    "                \n",
    "                \n",
    "                \n",
    "\n",
    "a = CharacterEvenDisplay()\n",
    "a.takeInput()\n",
    "a.displayOutput()\n",
    "        "
   ]
  },
  {
   "cell_type": "code",
   "execution_count": 10,
   "metadata": {},
   "outputs": [
    {
     "name": "stdout",
     "output_type": "stream",
     "text": [
      "[(10, 20, 100), (40, 50, 100), (70, 80, 100)]\n"
     ]
    }
   ],
   "source": [
    "#Q4 Write a Python program to replace last value of tuples in a list.\n",
    "list = [(10, 20, 40), (40, 50, 60), (70, 80, 90)]\n",
    "result =([i[:-1] + (100,) for i in list])\n",
    "print (result)\n"
   ]
  },
  {
   "cell_type": "code",
   "execution_count": 3,
   "metadata": {},
   "outputs": [
    {
     "name": "stdout",
     "output_type": "stream",
     "text": [
      "lo1ol\n"
     ]
    }
   ],
   "source": [
    "string = \"hello21world\"\n",
    "c = ''\n",
    "for i in range(len(string)):\n",
    "    if(i!=0 and i%2 ==0):\n",
    "        c += string[i]\n",
    "print(c)\n",
    "    \n"
   ]
  },
  {
   "cell_type": "code",
   "execution_count": null,
   "metadata": {},
   "outputs": [],
   "source": []
  },
  {
   "cell_type": "code",
   "execution_count": null,
   "metadata": {},
   "outputs": [],
   "source": []
  },
  {
   "cell_type": "code",
   "execution_count": null,
   "metadata": {},
   "outputs": [],
   "source": []
  },
  {
   "cell_type": "code",
   "execution_count": null,
   "metadata": {},
   "outputs": [],
   "source": []
  },
  {
   "cell_type": "code",
   "execution_count": null,
   "metadata": {},
   "outputs": [],
   "source": []
  },
  {
   "cell_type": "code",
   "execution_count": null,
   "metadata": {},
   "outputs": [],
   "source": [
    "\n",
    "        \n",
    "            \n",
    "    "
   ]
  },
  {
   "cell_type": "code",
   "execution_count": null,
   "metadata": {},
   "outputs": [],
   "source": []
  },
  {
   "cell_type": "code",
   "execution_count": null,
   "metadata": {},
   "outputs": [],
   "source": []
  }
 ],
 "metadata": {
  "kernelspec": {
   "display_name": "Python 3",
   "language": "python",
   "name": "python3"
  },
  "language_info": {
   "codemirror_mode": {
    "name": "ipython",
    "version": 3
   },
   "file_extension": ".py",
   "mimetype": "text/x-python",
   "name": "python",
   "nbconvert_exporter": "python",
   "pygments_lexer": "ipython3",
   "version": "3.6.5"
  }
 },
 "nbformat": 4,
 "nbformat_minor": 2
}
